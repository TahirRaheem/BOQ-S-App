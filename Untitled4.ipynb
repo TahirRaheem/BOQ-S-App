{
  "nbformat": 4,
  "nbformat_minor": 0,
  "metadata": {
    "colab": {
      "provenance": [],
      "authorship_tag": "ABX9TyMIW0O5RJwlGNKlEDVue8QQ",
      "include_colab_link": true
    },
    "kernelspec": {
      "name": "python3",
      "display_name": "Python 3"
    },
    "language_info": {
      "name": "python"
    }
  },
  "cells": [
    {
      "cell_type": "markdown",
      "metadata": {
        "id": "view-in-github",
        "colab_type": "text"
      },
      "source": [
        "<a href=\"https://colab.research.google.com/github/TahirRaheem/BOQ-S-App/blob/main/Untitled4.ipynb\" target=\"_parent\"><img src=\"https://colab.research.google.com/assets/colab-badge.svg\" alt=\"Open In Colab\"/></a>"
      ]
    },
    {
      "cell_type": "code",
      "execution_count": null,
      "metadata": {
        "colab": {
          "base_uri": "https://localhost:8080/"
        },
        "id": "EGKSm4Q0Sz8A",
        "outputId": "69a89f51-d69c-43fc-a73a-6aba4a81d015"
      },
      "outputs": [
        {
          "output_type": "stream",
          "name": "stdout",
          "text": [
            "Enter details for Excavation:\n"
          ]
        }
      ],
      "source": [
        "# Define the activities\n",
        "activities = [\n",
        "    \"Excavation\",\n",
        "    \"PPC work\",\n",
        "    \"Footing concrete\",\n",
        "    \"Steel quantity in footing\",\n",
        "    \"DDP work at plinth\",\n",
        "    \"Plinth beam concrete\",\n",
        "    \"Brick work in superstructure\",\n",
        "    \"Concrete in beam and column\",\n",
        "    \"Steel in beam and column\",\n",
        "    \"Plaster work\"\n",
        "]\n",
        "\n",
        "# Initialize a list to store the BOQ details and a variable to store the total cost\n",
        "boq = []\n",
        "total_amount = 0\n",
        "\n",
        "# Function to calculate total cost for each activity\n",
        "def calculate_boq():\n",
        "    global total_amount  # Use global to modify the total amount variable\n",
        "    for activity in activities:\n",
        "        print(f\"Enter details for {activity}:\")\n",
        "        try:\n",
        "            quantity = float(input(\"Quantity (numerical value): \"))\n",
        "            rate_per_unit = float(input(\"Rate per unit (numerical value): \"))\n",
        "            unit = input(\"Unit (e.g., cubic meter, kg): \")\n",
        "\n",
        "            total_cost = quantity * rate_per_unit\n",
        "            total_amount += total_cost  # Add the total cost of each activity to total_amount\n",
        "\n",
        "            boq.append({\n",
        "                \"Activity\": activity,\n",
        "                \"Quantity\": quantity,\n",
        "                \"Rate per Unit\": rate_per_unit,\n",
        "                \"Unit\": unit,\n",
        "                \"Total Cost\": total_cost\n",
        "            })\n",
        "            print()  # Print a blank line for better readability\n",
        "        except ValueError:\n",
        "            print(\"Invalid input. Please enter numerical values for quantity and rate per unit.\")\n",
        "            return  # Stop further execution if an error occurs\n",
        "\n",
        "# Function to display the BOQ and total amount\n",
        "def display_boq():\n",
        "    print(\"\\nBill of Quantities (BOQ):\")\n",
        "    print(\"{:<30} {:<10} {:<15} {:<10} {:<15}\".format(\"Activity\", \"Quantity\", \"Rate per Unit\", \"Unit\", \"Total Cost\"))\n",
        "    print(\"-\" * 80)\n",
        "    for item in boq:\n",
        "        print(\"{:<30} {:<10} {:<15} {:<10} {:<15}\".format(\n",
        "            item[\"Activity\"], item[\"Quantity\"], item[\"Rate per Unit\"], item[\"Unit\"], item[\"Total Cost\"]\n",
        "        ))\n",
        "\n",
        "    # Display the total amount at the end\n",
        "    print(\"\\nTotal Estimated Amount: {:.2f}\".format(total_amount))\n",
        "\n",
        "# Main function to execute the program\n",
        "def main():\n",
        "    calculate_boq()\n",
        "    display_boq()\n",
        "\n",
        "# Run the program\n",
        "if __name__ == \"__main__\":\n",
        "    main()\n"
      ]
    }
  ]
}